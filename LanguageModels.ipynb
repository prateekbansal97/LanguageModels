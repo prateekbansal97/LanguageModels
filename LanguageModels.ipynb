{
 "cells": [
  {
   "cell_type": "code",
   "execution_count": 1,
   "id": "5293e096-9456-4355-9ae4-8ca092ebbbb3",
   "metadata": {},
   "outputs": [],
   "source": [
    "import torch"
   ]
  },
  {
   "cell_type": "code",
   "execution_count": 2,
   "id": "4422b522-b235-49fa-99b8-74a1b9dd2d17",
   "metadata": {},
   "outputs": [
    {
     "data": {
      "text/plain": [
       "True"
      ]
     },
     "execution_count": 2,
     "metadata": {},
     "output_type": "execute_result"
    }
   ],
   "source": [
    "torch.cuda.is_available()"
   ]
  },
  {
   "cell_type": "code",
   "execution_count": 3,
   "id": "d99c71b4-ab65-49a0-bd55-dcdbc23b76d0",
   "metadata": {},
   "outputs": [
    {
     "name": "stdout",
     "output_type": "stream",
     "text": [
      "['\\n', ' ', '!', '#', '$', '%', '(', ')', '*', ',', '-', '.', '/', '0', '1', '2', '3', '4', '5', '6', '7', '8', '9', ':', ';', '?', 'A', 'B', 'C', 'D', 'E', 'F', 'G', 'H', 'I', 'J', 'K', 'L', 'M', 'N', 'O', 'P', 'Q', 'R', 'S', 'T', 'U', 'V', 'W', 'X', 'Y', 'Z', '[', ']', '_', 'a', 'b', 'c', 'd', 'e', 'f', 'g', 'h', 'i', 'j', 'k', 'l', 'm', 'n', 'o', 'p', 'q', 'r', 's', 't', 'u', 'v', 'w', 'x', 'y', 'z', 'Æ', 'æ', 'œ', '—', '‘', '’', '“', '”', '•', '™', '\\ufeff']\n"
     ]
    }
   ],
   "source": [
    "with open('./Merchant_of_Venice.txt','r',encoding='utf-8') as f:\n",
    "    text=f.read()\n",
    "\n",
    "chars = sorted(set(text))\n",
    "print(chars)\n",
    "vocabulary_size = len(chars)"
   ]
  },
  {
   "cell_type": "code",
   "execution_count": 7,
   "id": "4c87d484-28e5-4b47-8325-1092a5ce122b",
   "metadata": {},
   "outputs": [],
   "source": [
    "string_to_int = {ch:i for i,ch in enumerate(chars)}\n",
    "int_to_string = {i:ch for i,ch in enumerate(chars)}\n",
    "encode = lambda s: [string_to_int[c] for c in s]\n",
    "decode = lambda l: ''.join([int_to_string[i] for i in l])"
   ]
  },
  {
   "cell_type": "code",
   "execution_count": 8,
   "id": "c2255d13-50a3-45b8-a70a-5442d930ac0f",
   "metadata": {},
   "outputs": [
    {
     "name": "stdout",
     "output_type": "stream",
     "text": [
      "[62, 59, 66, 66, 69]\n",
      "hello\n"
     ]
    }
   ],
   "source": [
    "encoded_hello = encode(\"hello\")\n",
    "print(encoded_hello)\n",
    "decoded_hello = decode(encoded_hello)\n",
    "print(decoded_hello)"
   ]
  },
  {
   "cell_type": "markdown",
   "id": "b00bae6d-07c5-46ca-a083-31149adeba40",
   "metadata": {},
   "source": [
    "### Making tensors"
   ]
  },
  {
   "cell_type": "code",
   "execution_count": 15,
   "id": "f94fa752-37fa-4277-a733-38e4e444de67",
   "metadata": {},
   "outputs": [],
   "source": [
    "data = torch.tensor(encode(text), dtype=torch.long)"
   ]
  },
  {
   "cell_type": "code",
   "execution_count": 19,
   "id": "c16d5549-4588-4938-83bb-a3401132ec9b",
   "metadata": {},
   "outputs": [
    {
     "name": "stdout",
     "output_type": "stream",
     "text": [
      "tensor([91,  0,  1,  1,  1,  1, 45, 62, 59,  1, 41, 72, 69, 64, 59, 57, 74,  1,\n",
      "        32, 75, 74, 59, 68, 56, 59, 72, 61,  1, 59, 27, 69, 69, 65,  1, 69, 60,\n",
      "         1, 45, 62, 59,  1, 38, 59, 72, 57, 62, 55, 68, 74,  1, 69, 60,  1, 47,\n",
      "        59, 68, 63, 57, 59,  0,  1,  1,  1,  1,  0, 45, 62, 63, 73,  1, 59, 56,\n",
      "        69, 69, 65,  1, 63, 73,  1, 60, 69, 72,  1, 74, 62, 59,  1, 75, 73, 59,\n",
      "         1, 69, 60,  1, 55, 68, 79, 69, 68, 59])\n"
     ]
    }
   ],
   "source": [
    "print(data[:100])"
   ]
  },
  {
   "cell_type": "code",
   "execution_count": 20,
   "id": "7e2bbf3a-6fde-473c-82b8-ae5d7a45d722",
   "metadata": {},
   "outputs": [],
   "source": [
    "n = int(0.8*len(data))\n",
    "train_data = data[:n]\n",
    "val_data = data[n:]"
   ]
  },
  {
   "cell_type": "code",
   "execution_count": 21,
   "id": "a900f8aa-ac78-45ef-ade0-0db1477ef46b",
   "metadata": {},
   "outputs": [
    {
     "name": "stdout",
     "output_type": "stream",
     "text": [
      "when input is tensor([91]) target is tensor(0)\n",
      "when input is tensor([91,  0]) target is tensor(1)\n",
      "when input is tensor([91,  0,  1]) target is tensor(1)\n",
      "when input is tensor([91,  0,  1,  1]) target is tensor(1)\n",
      "when input is tensor([91,  0,  1,  1,  1]) target is tensor(1)\n",
      "when input is tensor([91,  0,  1,  1,  1,  1]) target is tensor(45)\n",
      "when input is tensor([91,  0,  1,  1,  1,  1, 45]) target is tensor(62)\n",
      "when input is tensor([91,  0,  1,  1,  1,  1, 45, 62]) target is tensor(59)\n"
     ]
    }
   ],
   "source": [
    "block_size = 8\n",
    "\n",
    "x = train_data[:block_size]\n",
    "y = train_data[1:block_size+1]\n",
    "\n",
    "for t in range(block_size):\n",
    "    context = x[:t+1]\n",
    "    target = y[t]\n",
    "    print('when input is', context, 'target is', target)"
   ]
  },
  {
   "cell_type": "markdown",
   "id": "a2ed0486-698a-4cb8-9e4e-2e79961fbcab",
   "metadata": {},
   "source": [
    "### Introductory Functions in torch"
   ]
  },
  {
   "cell_type": "code",
   "execution_count": 22,
   "id": "51150478-5995-4580-bf29-cde7fafe30b3",
   "metadata": {},
   "outputs": [
    {
     "data": {
      "text/plain": [
       "tensor([ 70,   0,  29, -30, -41,  -1])"
      ]
     },
     "execution_count": 22,
     "metadata": {},
     "output_type": "execute_result"
    }
   ],
   "source": [
    "randint = torch.randint(-100, 100, (6,))\n",
    "randint"
   ]
  },
  {
   "cell_type": "code",
   "execution_count": 24,
   "id": "3538cef8-35fc-448e-bd7e-f5b1a0ebbd26",
   "metadata": {},
   "outputs": [
    {
     "data": {
      "text/plain": [
       "tensor([[0.1000, 1.2000],\n",
       "        [2.2000, 3.1000],\n",
       "        [4.9000, 5.2000]])"
      ]
     },
     "execution_count": 24,
     "metadata": {},
     "output_type": "execute_result"
    }
   ],
   "source": [
    "tensor = torch.tensor([[0.1, 1.2],[2.2,3.1],[4.9,5.2]])\n",
    "tensor"
   ]
  },
  {
   "cell_type": "code",
   "execution_count": 27,
   "id": "bcd347ff-c358-4fd5-9fba-06f5b1230892",
   "metadata": {},
   "outputs": [
    {
     "data": {
      "text/plain": [
       "tensor([[0., 0., 0.],\n",
       "        [0., 0., 0.]])"
      ]
     },
     "execution_count": 27,
     "metadata": {},
     "output_type": "execute_result"
    }
   ],
   "source": [
    "zeros = torch.zeros(2,3)\n",
    "zeros"
   ]
  },
  {
   "cell_type": "code",
   "execution_count": 28,
   "id": "d4b67542-043c-479e-beda-9d7dc007644a",
   "metadata": {},
   "outputs": [
    {
     "data": {
      "text/plain": [
       "tensor([[1., 1., 1., 1.],\n",
       "        [1., 1., 1., 1.],\n",
       "        [1., 1., 1., 1.]])"
      ]
     },
     "execution_count": 28,
     "metadata": {},
     "output_type": "execute_result"
    }
   ],
   "source": [
    "ones = torch.ones(3,4)\n",
    "ones"
   ]
  },
  {
   "cell_type": "code",
   "execution_count": 30,
   "id": "cb8cc6b2-d3c3-4aef-9ad3-dfbf4d270e15",
   "metadata": {},
   "outputs": [
    {
     "data": {
      "text/plain": [
       "tensor([[-6.4129e-37,  8.6180e-43, -6.4111e-37],\n",
       "        [ 8.6180e-43, -6.4151e-37,  8.6180e-43]])"
      ]
     },
     "execution_count": 30,
     "metadata": {},
     "output_type": "execute_result"
    }
   ],
   "source": [
    "empty = torch.empty(2,3)\n",
    "empty"
   ]
  },
  {
   "cell_type": "code",
   "execution_count": 31,
   "id": "1d1c59a5-cf05-4408-922b-15e30d6ed30d",
   "metadata": {},
   "outputs": [
    {
     "data": {
      "text/plain": [
       "tensor([0, 1, 2, 3, 4])"
      ]
     },
     "execution_count": 31,
     "metadata": {},
     "output_type": "execute_result"
    }
   ],
   "source": [
    "arnage = torch.arange(5)\n",
    "arnage"
   ]
  },
  {
   "cell_type": "code",
   "execution_count": 32,
   "id": "03d970fe-8765-455b-ae6b-4778a95828a0",
   "metadata": {},
   "outputs": [
    {
     "data": {
      "text/plain": [
       "tensor([ 3.0000,  4.7500,  6.5000,  8.2500, 10.0000])"
      ]
     },
     "execution_count": 32,
     "metadata": {},
     "output_type": "execute_result"
    }
   ],
   "source": [
    "linspace = torch.linspace(3, 10, steps=5)\n",
    "linspace"
   ]
  },
  {
   "cell_type": "code",
   "execution_count": 34,
   "id": "e8564e4a-e15d-4f58-8db8-648d10bd177c",
   "metadata": {},
   "outputs": [
    {
     "data": {
      "text/plain": [
       "tensor([1.0000e-10, 1.0000e-05, 1.0000e+00, 1.0000e+05, 1.0000e+10])"
      ]
     },
     "execution_count": 34,
     "metadata": {},
     "output_type": "execute_result"
    }
   ],
   "source": [
    "logspace = torch.logspace(start = -10, end = 10, steps = 5)\n",
    "logspace"
   ]
  },
  {
   "cell_type": "code",
   "execution_count": null,
   "id": "9ed3be20-02e7-48c0-be21-9e6e9089ff02",
   "metadata": {},
   "outputs": [],
   "source": [
    "eye = torch.eye()"
   ]
  },
  {
   "cell_type": "code",
   "execution_count": 35,
   "id": "b1b07476-bc69-433e-b5b8-86a1bc7c4c68",
   "metadata": {},
   "outputs": [
    {
     "data": {
      "text/plain": [
       "'D:\\\\pythonexercises\\\\pytorch_tutorial'"
      ]
     },
     "execution_count": 35,
     "metadata": {},
     "output_type": "execute_result"
    }
   ],
   "source": [
    "pwd"
   ]
  },
  {
   "cell_type": "code",
   "execution_count": null,
   "id": "bb611cb0-9a3f-4267-a065-6f8f3a8d71f7",
   "metadata": {},
   "outputs": [],
   "source": []
  }
 ],
 "metadata": {
  "kernelspec": {
   "display_name": "pt",
   "language": "python",
   "name": "pt"
  },
  "language_info": {
   "codemirror_mode": {
    "name": "ipython",
    "version": 3
   },
   "file_extension": ".py",
   "mimetype": "text/x-python",
   "name": "python",
   "nbconvert_exporter": "python",
   "pygments_lexer": "ipython3",
   "version": "3.11.4"
  }
 },
 "nbformat": 4,
 "nbformat_minor": 5
}
